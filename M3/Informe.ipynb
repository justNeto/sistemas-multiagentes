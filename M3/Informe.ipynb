{
 "cells": [
  {
   "cell_type": "markdown",
   "id": "6a74d525",
   "metadata": {},
   "source": [
    "# Introducción\n",
    "El objetivo de esta actividad es llevar a cabo una simulación que permita a los agentes interactuar entre sí y tomar decisiones. Adicionalmente, busco que algunos agentes tengan comportamientos aleatorizados. Estos comportamientos dependen del estado de los conductores, que a su vez dependen de la situación de la simulación.\n",
    "\n",
    "De manera general, habrán 4 tipos de agentes:\n",
    "   - La banqueta (es decir todo aquello que no sea la carretera)\n",
    "   - Autos\n",
    "   - Ambulancias\n",
    "   - Semáforos\n",
    "    \n",
    "Para cada agente habrán ciertas reglas que estos deben cumplir, además de algunas reglas generales para la simulación.\n",
    "\n",
    "### Reglas generales (de la simulación)\n",
    "\n",
    "Cada agente tiene inicialmente una destino final al cual quiere ir. Es decir, todos los agentes en la carretera saben hacia donde quieren ir y saben dónde están actualmente. Todos los agentes buscarán llegar a su destino final y, por último, todos respetarán las instrucciones de los agentes semáforo en cuanto a movimiento se refiere, a menos que se decida lo contrario.\n",
    "   \n",
    "Simulando el mundo real, habrán dos carriles por calle en la intersección. Sin embargo, las calles tendrán más espacio para que los agentes puedan rebasar, o si las ambulancias deciden rebasar.\n",
    "    \n",
    "Los semáforos se encuentran pintados sobre la calle. Sin embargo, se asume que están por encima de los carriles de la calle.\n",
    "    \n",
    "Bajo ciertas condiciones, los agentes podrán cambiar su estado actual y cambiar sus comportamientos de forma aleatorizada. Por ejemplo, un conductor de un carro tiene 3 estados principales:\n",
    "\n",
    "   - Normal\n",
    "   - Apurado\n",
    "   - Desesperado\n",
    "\n",
    "Estas condiciones variarán de agente a agente, y los agentes de carro en particular tienen la posibilidad de aparecer en la simulación con algunos de los 3 estados. Un conductor desesperado o apurado no podrá cambiar su estado una vez que entra a él."
   ]
  },
  {
   "cell_type": "code",
   "execution_count": null,
   "id": "44a45134",
   "metadata": {},
   "outputs": [],
   "source": []
  }
 ],
 "metadata": {
  "kernelspec": {
   "display_name": "Python 3 (ipykernel)",
   "language": "python",
   "name": "python3"
  },
  "language_info": {
   "codemirror_mode": {
    "name": "ipython",
    "version": 3
   },
   "file_extension": ".py",
   "mimetype": "text/x-python",
   "name": "python",
   "nbconvert_exporter": "python",
   "pygments_lexer": "ipython3",
   "version": "3.10.8"
  }
 },
 "nbformat": 4,
 "nbformat_minor": 5
}
